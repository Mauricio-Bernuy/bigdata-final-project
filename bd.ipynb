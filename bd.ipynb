{
 "cells": [
  {
   "cell_type": "code",
   "execution_count": 17,
   "metadata": {},
   "outputs": [
    {
     "name": "stdout",
     "output_type": "stream",
     "text": [
      "Defaulting to user installation because normal site-packages is not writeable\n",
      "Requirement already satisfied: pyspark in ./.local/lib/python3.10/site-packages (3.4.1)\n",
      "Requirement already satisfied: py4j==0.10.9.7 in ./.local/lib/python3.10/site-packages (from pyspark) (0.10.9.7)\n",
      "E: Could not open lock file /var/lib/dpkg/lock-frontend - open (13: Permission denied)\n",
      "E: Unable to acquire the dpkg frontend lock (/var/lib/dpkg/lock-frontend), are you root?\n"
     ]
    }
   ],
   "source": [
    "!pip install pyspark\n",
    "!apt-get install openjdk-8-jdk-headless -qq > /dev/null\n",
    "\n",
    "import os\n",
    "os.environ[\"JAVA_HOME\"] = \"/usr/lib/jvm/java-8-openjdk-amd64\""
   ]
  },
  {
   "cell_type": "code",
   "execution_count": 2,
   "metadata": {},
   "outputs": [
    {
     "name": "stdout",
     "output_type": "stream",
     "text": [
      "Defaulting to user installation because normal site-packages is not writeable\n",
      "Requirement already satisfied: seaborn in ./.local/lib/python3.10/site-packages (0.12.2)\n",
      "Requirement already satisfied: numpy!=1.24.0,>=1.17 in ./.local/lib/python3.10/site-packages (from seaborn) (1.24.3)\n",
      "Requirement already satisfied: pandas>=0.25 in ./.local/lib/python3.10/site-packages (from seaborn) (2.0.2)\n",
      "Requirement already satisfied: matplotlib!=3.6.1,>=3.1 in ./.local/lib/python3.10/site-packages (from seaborn) (3.7.1)\n",
      "Requirement already satisfied: contourpy>=1.0.1 in ./.local/lib/python3.10/site-packages (from matplotlib!=3.6.1,>=3.1->seaborn) (1.0.7)\n",
      "Requirement already satisfied: cycler>=0.10 in ./.local/lib/python3.10/site-packages (from matplotlib!=3.6.1,>=3.1->seaborn) (0.11.0)\n",
      "Requirement already satisfied: fonttools>=4.22.0 in ./.local/lib/python3.10/site-packages (from matplotlib!=3.6.1,>=3.1->seaborn) (4.39.4)\n",
      "Requirement already satisfied: kiwisolver>=1.0.1 in ./.local/lib/python3.10/site-packages (from matplotlib!=3.6.1,>=3.1->seaborn) (1.4.4)\n",
      "Requirement already satisfied: packaging>=20.0 in ./.local/lib/python3.10/site-packages (from matplotlib!=3.6.1,>=3.1->seaborn) (23.1)\n",
      "Requirement already satisfied: pillow>=6.2.0 in ./.local/lib/python3.10/site-packages (from matplotlib!=3.6.1,>=3.1->seaborn) (9.5.0)\n",
      "Requirement already satisfied: pyparsing>=2.3.1 in /usr/lib/python3/dist-packages (from matplotlib!=3.6.1,>=3.1->seaborn) (2.4.7)\n",
      "Requirement already satisfied: python-dateutil>=2.7 in ./.local/lib/python3.10/site-packages (from matplotlib!=3.6.1,>=3.1->seaborn) (2.8.2)\n",
      "Requirement already satisfied: pytz>=2020.1 in /usr/lib/python3/dist-packages (from pandas>=0.25->seaborn) (2022.1)\n",
      "Requirement already satisfied: tzdata>=2022.1 in ./.local/lib/python3.10/site-packages (from pandas>=0.25->seaborn) (2023.3)\n",
      "Requirement already satisfied: six>=1.5 in /usr/lib/python3/dist-packages (from python-dateutil>=2.7->matplotlib!=3.6.1,>=3.1->seaborn) (1.16.0)\n",
      "Defaulting to user installation because normal site-packages is not writeable\n",
      "Requirement already satisfied: pyarrow in ./.local/lib/python3.10/site-packages (12.0.1)\n",
      "Requirement already satisfied: numpy>=1.16.6 in ./.local/lib/python3.10/site-packages (from pyarrow) (1.24.3)\n",
      "Defaulting to user installation because normal site-packages is not writeable\n",
      "Collecting sparkmagic\n",
      "  Using cached sparkmagic-0.20.5.tar.gz (44 kB)\n",
      "  Preparing metadata (setup.py) ... \u001b[?25ldone\n",
      "\u001b[?25hCollecting hdijupyterutils>=0.6 (from sparkmagic)\n",
      "  Using cached hdijupyterutils-0.20.5.tar.gz (5.1 kB)\n",
      "  Preparing metadata (setup.py) ... \u001b[?25ldone\n",
      "\u001b[?25hCollecting autovizwidget>=0.6 (from sparkmagic)\n",
      "  Using cached autovizwidget-0.20.5.tar.gz (9.0 kB)\n",
      "  Preparing metadata (setup.py) ... \u001b[?25ldone\n",
      "\u001b[?25hRequirement already satisfied: ipython>=4.0.2 in ./.local/lib/python3.10/site-packages (from sparkmagic) (8.14.0)\n",
      "Collecting pandas<2.0.0,>=0.17.1 (from sparkmagic)\n",
      "  Using cached pandas-1.5.3-cp310-cp310-manylinux_2_17_x86_64.manylinux2014_x86_64.whl (12.1 MB)\n",
      "Requirement already satisfied: numpy in ./.local/lib/python3.10/site-packages (from sparkmagic) (1.24.3)\n",
      "Requirement already satisfied: requests in /usr/lib/python3/dist-packages (from sparkmagic) (2.25.1)\n",
      "Requirement already satisfied: ipykernel>=4.2.2 in ./.local/lib/python3.10/site-packages (from sparkmagic) (6.23.1)\n",
      "Requirement already satisfied: ipywidgets>5.0.0 in ./.local/lib/python3.10/site-packages (from sparkmagic) (8.0.6)\n",
      "Collecting notebook>=4.2 (from sparkmagic)\n",
      "  Using cached notebook-6.5.4-py3-none-any.whl (529 kB)\n",
      "Requirement already satisfied: tornado>=4 in ./.local/lib/python3.10/site-packages (from sparkmagic) (6.3.2)\n",
      "Collecting requests_kerberos>=0.8.0 (from sparkmagic)\n",
      "  Using cached requests_kerberos-0.14.0-py2.py3-none-any.whl (11 kB)\n",
      "Collecting nest_asyncio==1.5.5 (from sparkmagic)\n",
      "  Using cached nest_asyncio-1.5.5-py3-none-any.whl (5.2 kB)\n",
      "Requirement already satisfied: plotly>=3 in ./.local/lib/python3.10/site-packages (from autovizwidget>=0.6->sparkmagic) (5.15.0)\n",
      "Collecting jupyter>=1 (from hdijupyterutils>=0.6->sparkmagic)\n",
      "  Using cached jupyter-1.0.0-py2.py3-none-any.whl (2.7 kB)\n",
      "Requirement already satisfied: comm>=0.1.1 in ./.local/lib/python3.10/site-packages (from ipykernel>=4.2.2->sparkmagic) (0.1.3)\n",
      "Requirement already satisfied: debugpy>=1.6.5 in ./.local/lib/python3.10/site-packages (from ipykernel>=4.2.2->sparkmagic) (1.6.7)\n",
      "Requirement already satisfied: jupyter-client>=6.1.12 in ./.local/lib/python3.10/site-packages (from ipykernel>=4.2.2->sparkmagic) (8.2.0)\n",
      "Requirement already satisfied: jupyter-core!=5.0.*,>=4.12 in ./.local/lib/python3.10/site-packages (from ipykernel>=4.2.2->sparkmagic) (5.3.0)\n",
      "Requirement already satisfied: matplotlib-inline>=0.1 in ./.local/lib/python3.10/site-packages (from ipykernel>=4.2.2->sparkmagic) (0.1.6)\n",
      "Requirement already satisfied: packaging in ./.local/lib/python3.10/site-packages (from ipykernel>=4.2.2->sparkmagic) (23.1)\n",
      "Requirement already satisfied: psutil in ./.local/lib/python3.10/site-packages (from ipykernel>=4.2.2->sparkmagic) (5.9.5)\n",
      "Requirement already satisfied: pyzmq>=20 in ./.local/lib/python3.10/site-packages (from ipykernel>=4.2.2->sparkmagic) (25.1.0)\n",
      "Requirement already satisfied: traitlets>=5.4.0 in ./.local/lib/python3.10/site-packages (from ipykernel>=4.2.2->sparkmagic) (5.9.0)\n",
      "Requirement already satisfied: backcall in ./.local/lib/python3.10/site-packages (from ipython>=4.0.2->sparkmagic) (0.2.0)\n",
      "Requirement already satisfied: decorator in ./.local/lib/python3.10/site-packages (from ipython>=4.0.2->sparkmagic) (5.1.1)\n",
      "Requirement already satisfied: jedi>=0.16 in ./.local/lib/python3.10/site-packages (from ipython>=4.0.2->sparkmagic) (0.18.2)\n",
      "Requirement already satisfied: pickleshare in ./.local/lib/python3.10/site-packages (from ipython>=4.0.2->sparkmagic) (0.7.5)\n",
      "Requirement already satisfied: prompt-toolkit!=3.0.37,<3.1.0,>=3.0.30 in ./.local/lib/python3.10/site-packages (from ipython>=4.0.2->sparkmagic) (3.0.38)\n",
      "Requirement already satisfied: pygments>=2.4.0 in ./.local/lib/python3.10/site-packages (from ipython>=4.0.2->sparkmagic) (2.15.1)\n",
      "Requirement already satisfied: stack-data in ./.local/lib/python3.10/site-packages (from ipython>=4.0.2->sparkmagic) (0.6.2)\n",
      "Requirement already satisfied: pexpect>4.3 in ./.local/lib/python3.10/site-packages (from ipython>=4.0.2->sparkmagic) (4.8.0)\n",
      "Requirement already satisfied: widgetsnbextension~=4.0.7 in ./.local/lib/python3.10/site-packages (from ipywidgets>5.0.0->sparkmagic) (4.0.7)\n",
      "Requirement already satisfied: jupyterlab-widgets~=3.0.7 in ./.local/lib/python3.10/site-packages (from ipywidgets>5.0.0->sparkmagic) (3.0.7)\n",
      "Requirement already satisfied: jinja2 in ./.local/lib/python3.10/site-packages (from notebook>=4.2->sparkmagic) (3.1.2)\n",
      "Collecting argon2-cffi (from notebook>=4.2->sparkmagic)\n",
      "  Using cached argon2_cffi-21.3.0-py3-none-any.whl (14 kB)\n",
      "Collecting ipython-genutils (from notebook>=4.2->sparkmagic)\n",
      "  Using cached ipython_genutils-0.2.0-py2.py3-none-any.whl (26 kB)\n",
      "Requirement already satisfied: nbformat in ./.local/lib/python3.10/site-packages (from notebook>=4.2->sparkmagic) (5.7.0)\n",
      "Collecting nbconvert>=5 (from notebook>=4.2->sparkmagic)\n",
      "  Using cached nbconvert-7.6.0-py3-none-any.whl (290 kB)\n",
      "Collecting Send2Trash>=1.8.0 (from notebook>=4.2->sparkmagic)\n",
      "  Using cached Send2Trash-1.8.2-py3-none-any.whl (18 kB)\n",
      "Collecting terminado>=0.8.3 (from notebook>=4.2->sparkmagic)\n",
      "  Using cached terminado-0.17.1-py3-none-any.whl (17 kB)\n",
      "Collecting prometheus-client (from notebook>=4.2->sparkmagic)\n",
      "  Downloading prometheus_client-0.17.1-py3-none-any.whl (60 kB)\n",
      "\u001b[2K     \u001b[90m━━━━━━━━━━━━━━━━━━━━━━━━━━━━━━━━━━━━━━━━\u001b[0m \u001b[32m60.6/60.6 kB\u001b[0m \u001b[31m1.7 MB/s\u001b[0m eta \u001b[36m0:00:00\u001b[0m\n",
      "\u001b[?25hCollecting nbclassic>=0.4.7 (from notebook>=4.2->sparkmagic)\n",
      "  Using cached nbclassic-1.0.0-py3-none-any.whl (10.0 MB)\n",
      "Requirement already satisfied: python-dateutil>=2.8.1 in ./.local/lib/python3.10/site-packages (from pandas<2.0.0,>=0.17.1->sparkmagic) (2.8.2)\n",
      "Requirement already satisfied: pytz>=2020.1 in /usr/lib/python3/dist-packages (from pandas<2.0.0,>=0.17.1->sparkmagic) (2022.1)\n",
      "Requirement already satisfied: cryptography>=1.3 in /usr/lib/python3/dist-packages (from requests_kerberos>=0.8.0->sparkmagic) (3.4.8)\n",
      "Collecting pyspnego[kerberos] (from requests_kerberos>=0.8.0->sparkmagic)\n",
      "  Using cached pyspnego-0.9.1-py3-none-any.whl (132 kB)\n",
      "Requirement already satisfied: parso<0.9.0,>=0.8.0 in ./.local/lib/python3.10/site-packages (from jedi>=0.16->ipython>=4.0.2->sparkmagic) (0.8.3)\n",
      "Collecting qtconsole (from jupyter>=1->hdijupyterutils>=0.6->sparkmagic)\n",
      "  Using cached qtconsole-5.4.3-py3-none-any.whl (121 kB)\n",
      "Collecting jupyter-console (from jupyter>=1->hdijupyterutils>=0.6->sparkmagic)\n",
      "  Using cached jupyter_console-6.6.3-py3-none-any.whl (24 kB)\n",
      "Requirement already satisfied: platformdirs>=2.5 in ./.local/lib/python3.10/site-packages (from jupyter-core!=5.0.*,>=4.12->ipykernel>=4.2.2->sparkmagic) (3.5.1)\n",
      "Collecting jupyter-server>=1.8 (from nbclassic>=0.4.7->notebook>=4.2->sparkmagic)\n",
      "  Using cached jupyter_server-2.7.0-py3-none-any.whl (375 kB)\n",
      "Collecting notebook-shim>=0.2.3 (from nbclassic>=0.4.7->notebook>=4.2->sparkmagic)\n",
      "  Using cached notebook_shim-0.2.3-py3-none-any.whl (13 kB)\n",
      "Collecting beautifulsoup4 (from nbconvert>=5->notebook>=4.2->sparkmagic)\n",
      "  Using cached beautifulsoup4-4.12.2-py3-none-any.whl (142 kB)\n",
      "Collecting bleach!=5.0.0 (from nbconvert>=5->notebook>=4.2->sparkmagic)\n",
      "  Using cached bleach-6.0.0-py3-none-any.whl (162 kB)\n",
      "Collecting defusedxml (from nbconvert>=5->notebook>=4.2->sparkmagic)\n",
      "  Using cached defusedxml-0.7.1-py2.py3-none-any.whl (25 kB)\n",
      "Collecting jupyterlab-pygments (from nbconvert>=5->notebook>=4.2->sparkmagic)\n",
      "  Using cached jupyterlab_pygments-0.2.2-py2.py3-none-any.whl (21 kB)\n",
      "Requirement already satisfied: markupsafe>=2.0 in ./.local/lib/python3.10/site-packages (from nbconvert>=5->notebook>=4.2->sparkmagic) (2.1.3)\n",
      "Collecting mistune<4,>=2.0.3 (from nbconvert>=5->notebook>=4.2->sparkmagic)\n",
      "  Using cached mistune-3.0.1-py3-none-any.whl (47 kB)\n",
      "Collecting nbclient>=0.5.0 (from nbconvert>=5->notebook>=4.2->sparkmagic)\n",
      "  Using cached nbclient-0.8.0-py3-none-any.whl (73 kB)\n",
      "Collecting pandocfilters>=1.4.1 (from nbconvert>=5->notebook>=4.2->sparkmagic)\n",
      "  Using cached pandocfilters-1.5.0-py2.py3-none-any.whl (8.7 kB)\n",
      "Collecting tinycss2 (from nbconvert>=5->notebook>=4.2->sparkmagic)\n",
      "  Using cached tinycss2-1.2.1-py3-none-any.whl (21 kB)\n",
      "Requirement already satisfied: fastjsonschema in ./.local/lib/python3.10/site-packages (from nbformat->notebook>=4.2->sparkmagic) (2.17.1)\n",
      "Requirement already satisfied: jsonschema>=2.6 in ./.local/lib/python3.10/site-packages (from nbformat->notebook>=4.2->sparkmagic) (4.17.3)\n",
      "Requirement already satisfied: ptyprocess>=0.5 in ./.local/lib/python3.10/site-packages (from pexpect>4.3->ipython>=4.0.2->sparkmagic) (0.7.0)\n",
      "Requirement already satisfied: tenacity>=6.2.0 in ./.local/lib/python3.10/site-packages (from plotly>=3->autovizwidget>=0.6->sparkmagic) (8.2.2)\n",
      "Requirement already satisfied: wcwidth in ./.local/lib/python3.10/site-packages (from prompt-toolkit!=3.0.37,<3.1.0,>=3.0.30->ipython>=4.0.2->sparkmagic) (0.2.6)\n",
      "Requirement already satisfied: six>=1.5 in /usr/lib/python3/dist-packages (from python-dateutil>=2.8.1->pandas<2.0.0,>=0.17.1->sparkmagic) (1.16.0)\n",
      "Collecting argon2-cffi-bindings (from argon2-cffi->notebook>=4.2->sparkmagic)\n",
      "  Using cached argon2_cffi_bindings-21.2.0-cp36-abi3-manylinux_2_17_x86_64.manylinux2014_x86_64.whl (86 kB)\n",
      "Collecting gssapi>=1.6.0 (from pyspnego[kerberos]->requests_kerberos>=0.8.0->sparkmagic)\n",
      "  Using cached gssapi-1.8.2.tar.gz (94 kB)\n",
      "  Installing build dependencies ... \u001b[?25ldone\n",
      "\u001b[?25h  Getting requirements to build wheel ... \u001b[?25lerror\n",
      "  \u001b[1;31merror\u001b[0m: \u001b[1msubprocess-exited-with-error\u001b[0m\n",
      "  \n",
      "  \u001b[31m×\u001b[0m \u001b[32mGetting requirements to build wheel\u001b[0m did not run successfully.\n",
      "  \u001b[31m│\u001b[0m exit code: \u001b[1;36m1\u001b[0m\n",
      "  \u001b[31m╰─>\u001b[0m \u001b[31m[21 lines of output]\u001b[0m\n",
      "  \u001b[31m   \u001b[0m /bin/sh: 1: krb5-config: not found\n",
      "  \u001b[31m   \u001b[0m Traceback (most recent call last):\n",
      "  \u001b[31m   \u001b[0m   File \"/home/home-server/.local/lib/python3.10/site-packages/pip/_vendor/pyproject_hooks/_in_process/_in_process.py\", line 353, in <module>\n",
      "  \u001b[31m   \u001b[0m     main()\n",
      "  \u001b[31m   \u001b[0m   File \"/home/home-server/.local/lib/python3.10/site-packages/pip/_vendor/pyproject_hooks/_in_process/_in_process.py\", line 335, in main\n",
      "  \u001b[31m   \u001b[0m     json_out['return_val'] = hook(**hook_input['kwargs'])\n",
      "  \u001b[31m   \u001b[0m   File \"/home/home-server/.local/lib/python3.10/site-packages/pip/_vendor/pyproject_hooks/_in_process/_in_process.py\", line 118, in get_requires_for_build_wheel\n",
      "  \u001b[31m   \u001b[0m     return hook(config_settings)\n",
      "  \u001b[31m   \u001b[0m   File \"/tmp/pip-build-env-fvci1uwi/overlay/local/lib/python3.10/dist-packages/setuptools/build_meta.py\", line 341, in get_requires_for_build_wheel\n",
      "  \u001b[31m   \u001b[0m     return self._get_build_requires(config_settings, requirements=['wheel'])\n",
      "  \u001b[31m   \u001b[0m   File \"/tmp/pip-build-env-fvci1uwi/overlay/local/lib/python3.10/dist-packages/setuptools/build_meta.py\", line 323, in _get_build_requires\n",
      "  \u001b[31m   \u001b[0m     self.run_setup()\n",
      "  \u001b[31m   \u001b[0m   File \"/tmp/pip-build-env-fvci1uwi/overlay/local/lib/python3.10/dist-packages/setuptools/build_meta.py\", line 338, in run_setup\n",
      "  \u001b[31m   \u001b[0m     exec(code, locals())\n",
      "  \u001b[31m   \u001b[0m   File \"<string>\", line 109, in <module>\n",
      "  \u001b[31m   \u001b[0m   File \"<string>\", line 22, in get_output\n",
      "  \u001b[31m   \u001b[0m   File \"/usr/lib/python3.10/subprocess.py\", line 420, in check_output\n",
      "  \u001b[31m   \u001b[0m     return run(*popenargs, stdout=PIPE, timeout=timeout, check=True,\n",
      "  \u001b[31m   \u001b[0m   File \"/usr/lib/python3.10/subprocess.py\", line 524, in run\n",
      "  \u001b[31m   \u001b[0m     raise CalledProcessError(retcode, process.args,\n",
      "  \u001b[31m   \u001b[0m subprocess.CalledProcessError: Command 'krb5-config --libs gssapi' returned non-zero exit status 127.\n",
      "  \u001b[31m   \u001b[0m \u001b[31m[end of output]\u001b[0m\n",
      "  \n",
      "  \u001b[1;35mnote\u001b[0m: This error originates from a subprocess, and is likely not a problem with pip.\n",
      "\u001b[?25h\u001b[1;31merror\u001b[0m: \u001b[1msubprocess-exited-with-error\u001b[0m\n",
      "\n",
      "\u001b[31m×\u001b[0m \u001b[32mGetting requirements to build wheel\u001b[0m did not run successfully.\n",
      "\u001b[31m│\u001b[0m exit code: \u001b[1;36m1\u001b[0m\n",
      "\u001b[31m╰─>\u001b[0m See above for output.\n",
      "\n",
      "\u001b[1;35mnote\u001b[0m: This error originates from a subprocess, and is likely not a problem with pip.\n"
     ]
    }
   ],
   "source": [
    "!pip install seaborn\n",
    "!pip install pyarrow\n",
    "!pip install sparkmagic"
   ]
  },
  {
   "cell_type": "code",
   "execution_count": 1,
   "metadata": {},
   "outputs": [],
   "source": [
    "import pyspark\n",
    "import pyspark.sql.functions as F\n",
    "from pyspark.sql.types import DoubleType, IntegerType\n",
    "from pyspark.sql import SparkSession\n",
    "from pyspark.conf import SparkConf\n",
    "\n",
    "from pyspark.ml.feature import VectorAssembler\n",
    "from pyspark.ml import Pipeline\n",
    "\n",
    "from pyspark.ml.regression import DecisionTreeRegressor\n",
    "from pyspark.ml.evaluation import RegressionEvaluator\n",
    "from pyspark.ml.regression import GBTRegressor\n",
    "\n",
    "import numpy as np\n",
    "import pandas as pdS\n",
    "\n",
    "import matplotlib.pyplot as plt\n",
    "import seaborn as sns"
   ]
  },
  {
   "cell_type": "code",
   "execution_count": 2,
   "metadata": {},
   "outputs": [
    {
     "name": "stderr",
     "output_type": "stream",
     "text": [
      "Setting default log level to \"WARN\".\n",
      "To adjust logging level use sc.setLogLevel(newLevel). For SparkR, use setLogLevel(newLevel).\n",
      "23/07/11 05:33:50 WARN NativeCodeLoader: Unable to load native-hadoop library for your platform... using builtin-java classes where applicable\n"
     ]
    },
    {
     "data": {
      "text/html": [
       "\n",
       "            <div>\n",
       "                <p><b>SparkSession - in-memory</b></p>\n",
       "                \n",
       "        <div>\n",
       "            <p><b>SparkContext</b></p>\n",
       "\n",
       "            <p><a href=\"http://home-server:4040\">Spark UI</a></p>\n",
       "\n",
       "            <dl>\n",
       "              <dt>Version</dt>\n",
       "                <dd><code>v3.4.1</code></dd>\n",
       "              <dt>Master</dt>\n",
       "                <dd><code>local[10]</code></dd>\n",
       "              <dt>AppName</dt>\n",
       "                <dd><code>BDF2</code></dd>\n",
       "            </dl>\n",
       "        </div>\n",
       "        \n",
       "            </div>\n",
       "        "
      ],
      "text/plain": [
       "<pyspark.sql.session.SparkSession at 0x7f4aadce67a0>"
      ]
     },
     "execution_count": 2,
     "metadata": {},
     "output_type": "execute_result"
    }
   ],
   "source": [
    "spark = SparkSession.builder \\\n",
    "    .master('local[10]') \\\n",
    "    .config(\"spark.driver.memory\", \"8g\") \\\n",
    "    .config(\"spark.sql.shuffle.partitions\", 10) \\\n",
    "    .config(\"spark.sql.execution.arrow.pyspark.enabled\", \"true\") \\\n",
    "    .config(\"spark.driver.maxResultSize\", 0) \\\n",
    "    .config(\"spark.executor.instances\", \"4\") \\\n",
    "    .config(\"spark.executor.cores\", \"2\") \\\n",
    "    .appName('BDF2') \\\n",
    "    .getOrCreate()\n",
    "\n",
    "plt.style.use('ggplot')\n",
    "spark"
   ]
  },
  {
   "cell_type": "code",
   "execution_count": 31,
   "metadata": {},
   "outputs": [
    {
     "name": "stderr",
     "output_type": "stream",
     "text": [
      "                                                                                \r"
     ]
    }
   ],
   "source": [
    "# data = spark.read.parquet(\"hdfs://20.121.35.246:9000/nyc_trips\")\t\n",
    "data = spark.read.parquet(\"hdfs://20.121.35.246:9000/nyc_trips/fhvhv_tripdata_2020-*\")\t"
   ]
  },
  {
   "cell_type": "code",
   "execution_count": 4,
   "metadata": {},
   "outputs": [],
   "source": [
    "data.createOrReplaceTempView('TAXI')"
   ]
  },
  {
   "cell_type": "code",
   "execution_count": 4,
   "metadata": {},
   "outputs": [
    {
     "data": {
      "text/plain": [
       "DataFrame[hvfhs_license_num: string, dispatching_base_num: string, originating_base_num: string, request_datetime: timestamp_ntz, on_scene_datetime: timestamp_ntz, pickup_datetime: timestamp_ntz, dropoff_datetime: timestamp_ntz, PULocationID: bigint, DOLocationID: bigint, trip_miles: double, trip_time: bigint, base_passenger_fare: double, tolls: double, bcf: double, sales_tax: double, congestion_surcharge: double, airport_fee: double, tips: double, driver_pay: double, shared_request_flag: string, shared_match_flag: string, access_a_ride_flag: string, wav_request_flag: string, wav_match_flag: string]"
      ]
     },
     "execution_count": 4,
     "metadata": {},
     "output_type": "execute_result"
    }
   ],
   "source": [
    "data"
   ]
  },
  {
   "cell_type": "code",
   "execution_count": 5,
   "metadata": {},
   "outputs": [
    {
     "name": "stderr",
     "output_type": "stream",
     "text": [
      "                                                                                \r"
     ]
    },
    {
     "data": {
      "text/plain": [
       "143309871"
      ]
     },
     "execution_count": 5,
     "metadata": {},
     "output_type": "execute_result"
    }
   ],
   "source": [
    "data.count()"
   ]
  },
  {
   "cell_type": "code",
   "execution_count": 32,
   "metadata": {},
   "outputs": [],
   "source": [
    "data = data.drop(\n",
    "    \"wav_match_flag\",\n",
    "    \"wav_request_flag\", \n",
    "    \"hvfhs_license_num\",\n",
    "    \"dispatching_base_num\",\n",
    "    \"originating_base_num\",\n",
    "    \"request_datetime\",\n",
    "    \"on_scene_datetime\",\n",
    "    \"dropoff_datetime\",\n",
    "    \"tolls\",\n",
    "    \"bcf\",\n",
    "    \"sales_tax\",\n",
    "    \"congestion_surcharge\",\n",
    "    \"airport_fee\",\n",
    "    \"shared_request_flag\",\n",
    "    \"shared_match_flag\",\n",
    "    \"access_a_ride_flag\"\n",
    "    )"
   ]
  },
  {
   "cell_type": "code",
   "execution_count": 33,
   "metadata": {},
   "outputs": [
    {
     "name": "stdout",
     "output_type": "stream",
     "text": [
      "root\n",
      " |-- pickup_datetime: timestamp_ntz (nullable = true)\n",
      " |-- PULocationID: long (nullable = true)\n",
      " |-- DOLocationID: long (nullable = true)\n",
      " |-- trip_miles: double (nullable = true)\n",
      " |-- trip_time: long (nullable = true)\n",
      " |-- base_passenger_fare: double (nullable = true)\n",
      " |-- tips: double (nullable = true)\n",
      " |-- driver_pay: double (nullable = true)\n",
      "\n"
     ]
    }
   ],
   "source": [
    "data.printSchema()"
   ]
  },
  {
   "attachments": {},
   "cell_type": "markdown",
   "metadata": {},
   "source": [
    "## Evaluamos el Boxplot de la variable Tips"
   ]
  },
  {
   "cell_type": "code",
   "execution_count": 12,
   "metadata": {},
   "outputs": [
    {
     "name": "stderr",
     "output_type": "stream",
     "text": [
      "                                                                                \r"
     ]
    }
   ],
   "source": [
    "pdf = data.select('tips').sample(0.01).toPandas()"
   ]
  },
  {
   "cell_type": "code",
   "execution_count": 13,
   "metadata": {},
   "outputs": [
    {
     "data": {
      "image/png": "[encoded data removed]",
      "text/plain": [
       "<Figure size 640x480 with 1 Axes>"
      ]
     },
     "metadata": {},
     "output_type": "display_data"
    }
   ],
   "source": [
    "pdf.boxplot()\n",
    "plt.show()"
   ]
  },
  {
   "cell_type": "code",
   "execution_count": 14,
   "metadata": {},
   "outputs": [
    {
     "name": "stderr",
     "output_type": "stream",
     "text": [
      "                                                                                \r"
     ]
    }
   ],
   "source": [
    "pdf2 = data.filter(data.tips.between(0, 10)).select('tips').sample(0.01).toPandas()"
   ]
  },
  {
   "cell_type": "code",
   "execution_count": 15,
   "metadata": {},
   "outputs": [
    {
     "data": {
      "image/png": "[encoded data removed]",
      "text/plain": [
       "<Figure size 640x480 with 1 Axes>"
      ]
     },
     "metadata": {},
     "output_type": "display_data"
    }
   ],
   "source": [
    "pdf2.boxplot()\n",
    "plt.show()"
   ]
  },
  {
   "cell_type": "code",
   "execution_count": 16,
   "metadata": {},
   "outputs": [
    {
     "name": "stderr",
     "output_type": "stream",
     "text": [
      "                                                                                \r"
     ]
    }
   ],
   "source": [
    "pdf3 = data.filter(data.tips.between(0, 1)).select('tips').sample(0.01).toPandas()"
   ]
  },
  {
   "cell_type": "code",
   "execution_count": 17,
   "metadata": {},
   "outputs": [
    {
     "data": {
      "image/png": "[encoded data removed]",
      "text/plain": [
       "<Figure size 640x480 with 1 Axes>"
      ]
     },
     "metadata": {},
     "output_type": "display_data"
    }
   ],
   "source": [
    "pdf3.boxplot()\n",
    "plt.show()"
   ]
  },
  {
   "attachments": {},
   "cell_type": "markdown",
   "metadata": {},
   "source": [
    "## Seleccionamos rango entre 0 a 10"
   ]
  },
  {
   "cell_type": "code",
   "execution_count": 19,
   "metadata": {},
   "outputs": [
    {
     "name": "stderr",
     "output_type": "stream",
     "text": [
      "                                                                                \r"
     ]
    },
    {
     "data": {
      "text/html": [
       "<div>\n",
       "<style scoped>\n",
       "    .dataframe tbody tr th:only-of-type {\n",
       "        vertical-align: middle;\n",
       "    }\n",
       "\n",
       "    .dataframe tbody tr th {\n",
       "        vertical-align: top;\n",
       "    }\n",
       "\n",
       "    .dataframe thead th {\n",
       "        text-align: right;\n",
       "    }\n",
       "</style>\n",
       "<table border=\"1\" class=\"dataframe\">\n",
       "  <thead>\n",
       "    <tr style=\"text-align: right;\">\n",
       "      <th></th>\n",
       "      <th>summary</th>\n",
       "      <th>tips</th>\n",
       "    </tr>\n",
       "  </thead>\n",
       "  <tbody>\n",
       "    <tr>\n",
       "      <th>0</th>\n",
       "      <td>count</td>\n",
       "      <td>142302187</td>\n",
       "    </tr>\n",
       "    <tr>\n",
       "      <th>1</th>\n",
       "      <td>mean</td>\n",
       "      <td>0.42880149958616626</td>\n",
       "    </tr>\n",
       "    <tr>\n",
       "      <th>2</th>\n",
       "      <td>stddev</td>\n",
       "      <td>1.375721933376247</td>\n",
       "    </tr>\n",
       "    <tr>\n",
       "      <th>3</th>\n",
       "      <td>min</td>\n",
       "      <td>0.0</td>\n",
       "    </tr>\n",
       "    <tr>\n",
       "      <th>4</th>\n",
       "      <td>max</td>\n",
       "      <td>10.0</td>\n",
       "    </tr>\n",
       "  </tbody>\n",
       "</table>\n",
       "</div>"
      ],
      "text/plain": [
       "  summary                 tips\n",
       "0   count            142302187\n",
       "1    mean  0.42880149958616626\n",
       "2  stddev    1.375721933376247\n",
       "3     min                  0.0\n",
       "4     max                 10.0"
      ]
     },
     "execution_count": 19,
     "metadata": {},
     "output_type": "execute_result"
    }
   ],
   "source": [
    "data.filter(data.tips.between(0, 10)).select('tips').describe().toPandas()"
   ]
  },
  {
   "cell_type": "code",
   "execution_count": 34,
   "metadata": {},
   "outputs": [],
   "source": [
    "data_no_outliers = data.filter(data.tips.between(0, 10))"
   ]
  },
  {
   "attachments": {},
   "cell_type": "markdown",
   "metadata": {},
   "source": [
    "## Added Variables"
   ]
  },
  {
   "cell_type": "code",
   "execution_count": 35,
   "metadata": {},
   "outputs": [],
   "source": [
    "data_no_outliers = data_no_outliers.withColumn('dayofweek', F.dayofweek(data_no_outliers['pickup_datetime']))\n",
    "data_no_outliers = data_no_outliers.withColumn('hour', F.hour(data_no_outliers['pickup_datetime']))\n",
    "\n",
    "# peak hours, Monday-Friday between 4PM-8PM\n",
    "data_no_outliers = data_no_outliers.withColumn('peak_hours', F.when(\n",
    "    (data_no_outliers['hour']>=16) & (data_no_outliers['hour']<20) & (data_no_outliers['dayofweek']!=7)&(data_no_outliers['dayofweek']!=0), 1).otherwise(0))\n",
    "\n",
    "# night hours, $0.5 of additional surcharge between 8PM - 6AM.\n",
    "data_no_outliers = data_no_outliers.withColumn('night_time', F.when(\n",
    "    (data_no_outliers['hour']>=20) | (data_no_outliers['hour']<6), 1).otherwise(0))"
   ]
  },
  {
   "attachments": {},
   "cell_type": "markdown",
   "metadata": {},
   "source": [
    "## Persist sample of values in device memory for evaluation"
   ]
  },
  {
   "cell_type": "code",
   "execution_count": 37,
   "metadata": {},
   "outputs": [],
   "source": [
    "dno_small = data_no_outliers.sample(0.01)"
   ]
  },
  {
   "cell_type": "code",
   "execution_count": 38,
   "metadata": {},
   "outputs": [
    {
     "name": "stdout",
     "output_type": "stream",
     "text": [
      "== Physical Plan ==\n",
      "*(1) Sample 0.0, 1.0E-4, false, -7760117040415683478\n",
      "+- *(1) Project [pickup_datetime#7003, PULocationID#7005L, DOLocationID#7006L, trip_miles#7007, trip_time#7008L, base_passenger_fare#7009, tips#7015, driver_pay#7016, dayofweek#7055, hour#7065, CASE WHEN ((((hour#7065 >= 16) AND (hour#7065 < 20)) AND NOT (dayofweek#7055 = 7)) AND NOT (dayofweek#7055 = 0)) THEN 1 ELSE 0 END AS peak_hours#7076, CASE WHEN ((hour#7065 >= 20) OR (hour#7065 < 6)) THEN 1 ELSE 0 END AS night_time#7088]\n",
      "   +- *(1) Project [pickup_datetime#7003, PULocationID#7005L, DOLocationID#7006L, trip_miles#7007, trip_time#7008L, base_passenger_fare#7009, tips#7015, driver_pay#7016, dayofweek(cast(pickup_datetime#7003 as date)) AS dayofweek#7055, hour(pickup_datetime#7003, Some(America/Lima)) AS hour#7065]\n",
      "      +- *(1) Filter ((isnotnull(tips#7015) AND (tips#7015 >= 0.0)) AND (tips#7015 <= 10.0))\n",
      "         +- *(1) ColumnarToRow\n",
      "            +- FileScan parquet [pickup_datetime#7003,PULocationID#7005L,DOLocationID#7006L,trip_miles#7007,trip_time#7008L,base_passenger_fare#7009,tips#7015,driver_pay#7016] Batched: true, DataFilters: [isnotnull(tips#7015), (tips#7015 >= 0.0), (tips#7015 <= 10.0)], Format: Parquet, Location: InMemoryFileIndex(12 paths)[hdfs://20.121.35.246:9000/nyc_trips/fhvhv_tripdata_2020-01.parquet, h..., PartitionFilters: [], PushedFilters: [IsNotNull(tips), GreaterThanOrEqual(tips,0.0), LessThanOrEqual(tips,10.0)], ReadSchema: struct<pickup_datetime:timestamp_ntz,PULocationID:bigint,DOLocationID:bigint,trip_miles:double,tr...\n",
      "\n",
      "\n"
     ]
    },
    {
     "name": "stderr",
     "output_type": "stream",
     "text": [
      "                                                                                \r"
     ]
    },
    {
     "data": {
      "text/plain": [
       "14215"
      ]
     },
     "execution_count": 38,
     "metadata": {},
     "output_type": "execute_result"
    }
   ],
   "source": [
    "from pyspark import StorageLevel\n",
    "dno_small.explain()\n",
    "dno_small.persist(StorageLevel.MEMORY_ONLY)\n",
    "dno_small.count()"
   ]
  },
  {
   "attachments": {},
   "cell_type": "markdown",
   "metadata": {},
   "source": [
    "## Correlación entre variables continuas vs tips, Naive"
   ]
  },
  {
   "cell_type": "code",
   "execution_count": 44,
   "metadata": {},
   "outputs": [
    {
     "name": "stdout",
     "output_type": "stream",
     "text": [
      "Correlation to [tips] for  dayofweek 0.0077302797789898904\n",
      "Correlation to [tips] for  hour -0.0006409069795949138\n",
      "Correlation to [tips] for  peak_hours -0.006092551862727781\n",
      "Correlation to [tips] for  night_time -0.032296421856526154\n",
      "Correlation to [tips] for  trip_time 0.10749997471165998\n",
      "Correlation to [tips] for  PULocationID 0.03508541046982388\n",
      "Correlation to [tips] for  DOLocationID 0.014307492981689025\n"
     ]
    }
   ],
   "source": [
    "naive_variables = ['dayofweek',\n",
    "                        'hour',\n",
    "                        'peak_hours',\n",
    "                        'night_time',\n",
    "                        'trip_time',\n",
    "                        'PULocationID',\n",
    "                        'DOLocationID']\n",
    "\n",
    "for i in naive_variables:\n",
    "    print( \"Correlation to [tips] for \", i, dno_small.stat.corr('tips',i))"
   ]
  },
  {
   "attachments": {},
   "cell_type": "markdown",
   "metadata": {},
   "source": [
    "## Correlación entre variables refinadas vs tips, Refined"
   ]
  },
  {
   "cell_type": "code",
   "execution_count": 43,
   "metadata": {},
   "outputs": [
    {
     "name": "stdout",
     "output_type": "stream",
     "text": [
      "Correlation to [tips] for  base_passenger_fare 0.1205635709139525\n",
      "Correlation to [tips] for  driver_pay 0.10540002959881452\n",
      "Correlation to [tips] for  trip_miles 0.09094848869960084\n",
      "Correlation to [tips] for  trip_time 0.10749997471165998\n"
     ]
    }
   ],
   "source": [
    "refined_variables = [\n",
    "    \"base_passenger_fare\",\n",
    "    \"driver_pay\",\n",
    "    \"trip_miles\",\n",
    "    \"trip_time\",\n",
    "]\n",
    "\n",
    "for i in refined_variables:\n",
    "    print( \"Correlation to [tips] for \", i, dno_small.stat.corr('tips',i))"
   ]
  },
  {
   "attachments": {},
   "cell_type": "markdown",
   "metadata": {},
   "source": [
    "## Modeling"
   ]
  },
  {
   "attachments": {},
   "cell_type": "markdown",
   "metadata": {},
   "source": [
    "## Train test split"
   ]
  },
  {
   "cell_type": "code",
   "execution_count": 8,
   "metadata": {},
   "outputs": [],
   "source": [
    "(trainingData, testData) = data_no_outliers.randomSplit([0.7, 0.3], seed=66)"
   ]
  },
  {
   "attachments": {},
   "cell_type": "markdown",
   "metadata": {},
   "source": [
    "## Assemble features and variables"
   ]
  },
  {
   "cell_type": "code",
   "execution_count": 9,
   "metadata": {},
   "outputs": [],
   "source": [
    "assembler = VectorAssembler(\n",
    "    inputCols=naive_variables,\n",
    "    outputCol='features')"
   ]
  },
  {
   "cell_type": "code",
   "execution_count": 10,
   "metadata": {},
   "outputs": [],
   "source": [
    "trainingData = assembler.setHandleInvalid(\"skip\").transform(trainingData)\n",
    "testData = assembler.setHandleInvalid(\"skip\").transform(testData)"
   ]
  },
  {
   "cell_type": "code",
   "execution_count": 11,
   "metadata": {},
   "outputs": [],
   "source": [
    "trainingData = trainingData.select(trainingData.features,trainingData.tips)\n",
    "testData = testData.select(testData.features,testData.tips)"
   ]
  },
  {
   "attachments": {},
   "cell_type": "markdown",
   "metadata": {},
   "source": [
    "## To device memory"
   ]
  },
  {
   "cell_type": "code",
   "execution_count": 36,
   "metadata": {},
   "outputs": [
    {
     "name": "stdout",
     "output_type": "stream",
     "text": [
      "== Physical Plan ==\n",
      "*(1) Project [features#7365, tips#74]\n",
      "+- *(1) Project [tips#74, UDF(struct(dayofweek_double_VectorAssembler_cff052d9436f, cast(dayofweek#123 as double), hour_double_VectorAssembler_cff052d9436f, cast(hour#130 as double), peak_hours_double_VectorAssembler_cff052d9436f, cast(peak_hours#138 as double), night_time_double_VectorAssembler_cff052d9436f, cast(night_time#147 as double), trip_time_double_VectorAssembler_cff052d9436f, cast(trip_time#67L as double), PULocationID_double_VectorAssembler_cff052d9436f, cast(PULocationID#64L as double), DOLocationID_double_VectorAssembler_cff052d9436f, cast(DOLocationID#65L as double))) AS features#7365]\n",
      "   +- *(1) Filter atleastnnonnulls(7, dayofweek#123, hour#130, peak_hours#138, night_time#147, trip_time#67L, PULocationID#64L, DOLocationID#65L)\n",
      "      +- *(1) Sample 0.0, 0.7, false, 66\n",
      "         +- *(1) Project [PULocationID#64L, DOLocationID#65L, trip_time#67L, tips#74, dayofweek#123, hour#130, peak_hours#138, night_time#147]\n",
      "            +- *(1) Sort [pickup_datetime#62 ASC NULLS FIRST, PULocationID#64L ASC NULLS FIRST, DOLocationID#65L ASC NULLS FIRST, trip_time#67L ASC NULLS FIRST, tips#74 ASC NULLS FIRST, dayofweek#123 ASC NULLS FIRST, hour#130 ASC NULLS FIRST, peak_hours#138 ASC NULLS FIRST, night_time#147 ASC NULLS FIRST], false, 0\n",
      "               +- *(1) Project [pickup_datetime#62, PULocationID#64L, DOLocationID#65L, trip_time#67L, tips#74, dayofweek#123, hour#130, CASE WHEN ((((hour#130 >= 16) AND (hour#130 < 20)) AND NOT (dayofweek#123 = 7)) AND NOT (dayofweek#123 = 0)) THEN 1 ELSE 0 END AS peak_hours#138, CASE WHEN ((hour#130 >= 20) OR (hour#130 < 6)) THEN 1 ELSE 0 END AS night_time#147]\n",
      "                  +- *(1) Project [pickup_datetime#62, PULocationID#64L, DOLocationID#65L, trip_time#67L, tips#74, dayofweek(cast(pickup_datetime#62 as date)) AS dayofweek#123, hour(pickup_datetime#62, Some(America/Lima)) AS hour#130]\n",
      "                     +- *(1) Filter ((isnotnull(tips#74) AND (tips#74 >= 0.0)) AND (tips#74 <= 10.0))\n",
      "                        +- *(1) ColumnarToRow\n",
      "                           +- FileScan parquet [pickup_datetime#62,PULocationID#64L,DOLocationID#65L,trip_time#67L,tips#74] Batched: true, DataFilters: [isnotnull(tips#74), (tips#74 >= 0.0), (tips#74 <= 10.0)], Format: Parquet, Location: InMemoryFileIndex(12 paths)[hdfs://20.121.35.246:9000/nyc_trips/fhvhv_tripdata_2020-01.parquet, h..., PartitionFilters: [], PushedFilters: [IsNotNull(tips), GreaterThanOrEqual(tips,0.0), LessThanOrEqual(tips,10.0)], ReadSchema: struct<pickup_datetime:timestamp_ntz,PULocationID:bigint,DOLocationID:bigint,trip_time:bigint,tip...\n",
      "\n",
      "\n"
     ]
    },
    {
     "name": "stderr",
     "output_type": "stream",
     "text": [
      "                                                                                \r"
     ]
    },
    {
     "data": {
      "text/plain": [
       "99621445"
      ]
     },
     "execution_count": 36,
     "metadata": {},
     "output_type": "execute_result"
    }
   ],
   "source": [
    "from pyspark import StorageLevel\n",
    "trainingData.explain()\n",
    "trainingData.persist(StorageLevel.MEMORY_ONLY)\n",
    "trainingData.count()"
   ]
  },
  {
   "attachments": {},
   "cell_type": "markdown",
   "metadata": {},
   "source": [
    "## Decision Tree Regression 1, fitting"
   ]
  },
  {
   "cell_type": "code",
   "execution_count": 37,
   "metadata": {},
   "outputs": [
    {
     "name": "stderr",
     "output_type": "stream",
     "text": [
      "23/07/11 02:31:40 WARN MemoryStore: Not enough space to cache rdd_174_8 in memory! (computed 332.1 MiB so far)\n",
      "23/07/11 02:31:40 WARN BlockManager: Persisting block rdd_174_8 to disk instead.\n",
      "23/07/11 02:31:41 WARN MemoryStore: Not enough space to cache rdd_174_5 in memory! (computed 332.1 MiB so far)\n",
      "23/07/11 02:31:41 WARN BlockManager: Persisting block rdd_174_5 to disk instead.\n",
      "23/07/11 02:31:41 WARN MemoryStore: Not enough space to cache rdd_174_1 in memory! (computed 332.1 MiB so far)\n",
      "23/07/11 02:31:41 WARN BlockManager: Persisting block rdd_174_1 to disk instead.\n",
      "23/07/11 02:31:41 WARN MemoryStore: Not enough space to cache rdd_174_19 in memory! (computed 332.1 MiB so far)\n",
      "23/07/11 02:31:41 WARN BlockManager: Persisting block rdd_174_19 to disk instead.\n",
      "23/07/11 02:31:41 WARN MemoryStore: Not enough space to cache rdd_174_17 in memory! (computed 332.1 MiB so far)\n",
      "23/07/11 02:31:41 WARN BlockManager: Persisting block rdd_174_17 to disk instead.\n",
      "23/07/11 02:31:41 WARN MemoryStore: Not enough space to cache rdd_174_9 in memory! (computed 332.1 MiB so far)\n",
      "23/07/11 02:31:41 WARN MemoryStore: Not enough space to cache rdd_174_11 in memory! (computed 332.1 MiB so far)\n",
      "23/07/11 02:31:41 WARN BlockManager: Persisting block rdd_174_11 to disk instead.\n",
      "23/07/11 02:31:41 WARN BlockManager: Persisting block rdd_174_9 to disk instead.\n",
      "23/07/11 02:31:42 WARN MemoryStore: Not enough space to cache rdd_174_15 in memory! (computed 332.1 MiB so far)\n",
      "23/07/11 02:31:42 WARN BlockManager: Persisting block rdd_174_15 to disk instead.\n",
      "23/07/11 02:31:42 WARN MemoryStore: Not enough space to cache rdd_174_13 in memory! (computed 332.1 MiB so far)\n",
      "23/07/11 02:31:42 WARN BlockManager: Persisting block rdd_174_13 to disk instead.\n",
      "23/07/11 02:31:48 WARN MemoryStore: Not enough space to cache rdd_174_10 in memory! (computed 524.8 MiB so far)\n",
      "23/07/11 02:31:48 WARN BlockManager: Persisting block rdd_174_10 to disk instead.\n",
      "23/07/11 02:32:49 WARN MemoryStore: Not enough space to cache rdd_174_11 in memory! (computed 531.9 MiB so far)\n",
      "23/07/11 02:32:52 WARN MemoryStore: Not enough space to cache rdd_174_15 in memory! (computed 157.6 MiB so far)\n",
      "23/07/11 02:33:01 WARN MemoryStore: Not enough space to cache rdd_174_17 in memory! (computed 236.4 MiB so far)\n",
      "23/07/11 02:33:09 WARN MemoryStore: Not enough space to cache rdd_174_13 in memory! (computed 797.8 MiB so far)\n",
      "23/07/11 02:33:10 WARN MemoryStore: Not enough space to cache rdd_174_19 in memory! (computed 797.8 MiB so far)\n",
      "23/07/11 02:33:51 WARN MemoryStore: Not enough space to cache rdd_174_5 in memory! (computed 797.8 MiB so far)\n",
      "23/07/11 02:33:51 WARN MemoryStore: Not enough space to cache rdd_174_1 in memory! (computed 1260.8 MiB so far)\n",
      "23/07/11 02:34:16 WARN MemoryStore: Not enough space to cache rdd_174_1 in memory! (computed 157.6 MiB so far)\n",
      "23/07/11 02:34:16 WARN MemoryStore: Not enough space to cache rdd_174_9 in memory! (computed 157.6 MiB so far)\n",
      "23/07/11 02:34:16 WARN MemoryStore: Not enough space to cache rdd_174_11 in memory! (computed 157.6 MiB so far)\n",
      "23/07/11 02:34:17 WARN MemoryStore: Not enough space to cache rdd_174_5 in memory! (computed 157.6 MiB so far)\n",
      "23/07/11 02:34:22 WARN MemoryStore: Not enough space to cache rdd_174_17 in memory! (computed 354.6 MiB so far)\n",
      "23/07/11 02:34:23 WARN MemoryStore: Not enough space to cache rdd_174_15 in memory! (computed 354.6 MiB so far)\n",
      "23/07/11 02:34:23 WARN MemoryStore: Not enough space to cache rdd_174_13 in memory! (computed 354.6 MiB so far)\n",
      "23/07/11 02:34:23 WARN MemoryStore: Not enough space to cache rdd_174_19 in memory! (computed 354.6 MiB so far)\n",
      "23/07/11 02:34:58 WARN MemoryStore: Not enough space to cache rdd_174_13 in memory! (computed 157.6 MiB so far)\n",
      "23/07/11 02:34:58 WARN MemoryStore: Not enough space to cache rdd_174_11 in memory! (computed 157.6 MiB so far)\n",
      "23/07/11 02:34:58 WARN MemoryStore: Not enough space to cache rdd_174_1 in memory! (computed 157.6 MiB so far)\n",
      "23/07/11 02:34:58 WARN MemoryStore: Not enough space to cache rdd_174_5 in memory! (computed 157.6 MiB so far)\n",
      "23/07/11 02:35:05 WARN MemoryStore: Not enough space to cache rdd_174_19 in memory! (computed 354.6 MiB so far)\n",
      "23/07/11 02:35:06 WARN MemoryStore: Not enough space to cache rdd_174_9 in memory! (computed 354.6 MiB so far)\n",
      "23/07/11 02:35:06 WARN MemoryStore: Not enough space to cache rdd_174_15 in memory! (computed 354.6 MiB so far)\n",
      "23/07/11 02:35:07 WARN MemoryStore: Not enough space to cache rdd_174_17 in memory! (computed 354.6 MiB so far)\n",
      "23/07/11 02:35:43 WARN MemoryStore: Not enough space to cache rdd_174_17 in memory! (computed 157.6 MiB so far)\n",
      "23/07/11 02:35:44 WARN MemoryStore: Not enough space to cache rdd_174_13 in memory! (computed 157.6 MiB so far)\n",
      "23/07/11 02:35:44 WARN MemoryStore: Not enough space to cache rdd_174_5 in memory! (computed 157.6 MiB so far)\n",
      "23/07/11 02:35:44 WARN MemoryStore: Not enough space to cache rdd_174_9 in memory! (computed 157.6 MiB so far)\n",
      "23/07/11 02:35:50 WARN MemoryStore: Not enough space to cache rdd_174_11 in memory! (computed 354.6 MiB so far)\n",
      "23/07/11 02:35:50 WARN MemoryStore: Not enough space to cache rdd_174_15 in memory! (computed 354.6 MiB so far)\n",
      "23/07/11 02:35:50 WARN MemoryStore: Not enough space to cache rdd_174_19 in memory! (computed 354.6 MiB so far)\n",
      "23/07/11 02:35:50 WARN MemoryStore: Not enough space to cache rdd_174_1 in memory! (computed 354.6 MiB so far)\n",
      "23/07/11 02:36:33 WARN MemoryStore: Not enough space to cache rdd_174_1 in memory! (computed 157.6 MiB so far)\n",
      "23/07/11 02:36:33 WARN MemoryStore: Not enough space to cache rdd_174_11 in memory! (computed 157.6 MiB so far)\n",
      "23/07/11 02:36:33 WARN MemoryStore: Not enough space to cache rdd_174_15 in memory! (computed 157.6 MiB so far)\n",
      "23/07/11 02:36:33 WARN MemoryStore: Not enough space to cache rdd_174_5 in memory! (computed 157.6 MiB so far)\n",
      "23/07/11 02:36:40 WARN MemoryStore: Not enough space to cache rdd_174_9 in memory! (computed 354.6 MiB so far)\n",
      "23/07/11 02:36:41 WARN MemoryStore: Not enough space to cache rdd_174_13 in memory! (computed 354.6 MiB so far)\n",
      "23/07/11 02:36:41 WARN MemoryStore: Not enough space to cache rdd_174_19 in memory! (computed 354.6 MiB so far)\n",
      "23/07/11 02:36:41 WARN MemoryStore: Not enough space to cache rdd_174_17 in memory! (computed 354.6 MiB so far)\n",
      "                                                                                \r"
     ]
    }
   ],
   "source": [
    "dt = DecisionTreeRegressor(featuresCol='features', labelCol='tips')\n",
    "\n",
    "# Model fitting\n",
    "model = dt.fit(trainingData)"
   ]
  },
  {
   "attachments": {},
   "cell_type": "markdown",
   "metadata": {},
   "source": [
    "## Evaluation on test data"
   ]
  },
  {
   "cell_type": "code",
   "execution_count": 50,
   "metadata": {},
   "outputs": [
    {
     "name": "stderr",
     "output_type": "stream",
     "text": [
      "[Stage 82:====================================================>   (28 + 2) / 30]\r"
     ]
    },
    {
     "name": "stdout",
     "output_type": "stream",
     "text": [
      "RMSE:  1.361792878777681\n",
      "MAE:  0.747347768649097\n",
      "R-squared:  0.02040292689396983\n"
     ]
    },
    {
     "name": "stderr",
     "output_type": "stream",
     "text": [
      "                                                                                \r"
     ]
    }
   ],
   "source": [
    "predictions = model.transform(testData)\n",
    "predictions.persist(StorageLevel.MEMORY_ONLY)\n",
    "\n",
    "rmse = RegressionEvaluator(labelCol=\"tips\", predictionCol=\"prediction\", metricName=\"rmse\")\n",
    "rmse = rmse.evaluate(predictions)\n",
    "mae = RegressionEvaluator(labelCol=\"tips\", predictionCol=\"prediction\", metricName=\"mae\")\n",
    "mae = mae.evaluate(predictions)\n",
    "r2 = RegressionEvaluator(labelCol=\"tips\", predictionCol=\"prediction\", metricName=\"r2\")\n",
    "r2 = r2.evaluate(predictions)\n",
    "\n",
    "print(\"RMSE: \", rmse)\n",
    "print(\"MAE: \", mae)\n",
    "print(\"R-squared: \", r2)"
   ]
  },
  {
   "cell_type": "code",
   "execution_count": 51,
   "metadata": {},
   "outputs": [
    {
     "data": {
      "text/plain": [
       "DataFrame[features: vector, tips: double, prediction: double]"
      ]
     },
     "execution_count": 51,
     "metadata": {},
     "output_type": "execute_result"
    }
   ],
   "source": [
    "predictions.unpersist(True)"
   ]
  },
  {
   "attachments": {},
   "cell_type": "markdown",
   "metadata": {},
   "source": [
    "--------------------------------------------"
   ]
  },
  {
   "attachments": {},
   "cell_type": "markdown",
   "metadata": {},
   "source": [
    "## Train test split"
   ]
  },
  {
   "cell_type": "code",
   "execution_count": 45,
   "metadata": {},
   "outputs": [],
   "source": [
    "(trainingData1, testData1) = data_no_outliers.randomSplit([0.7, 0.3], seed=66)"
   ]
  },
  {
   "attachments": {},
   "cell_type": "markdown",
   "metadata": {},
   "source": [
    "## Assemble features and variables"
   ]
  },
  {
   "cell_type": "code",
   "execution_count": 47,
   "metadata": {},
   "outputs": [],
   "source": [
    "assembler = VectorAssembler(\n",
    "    inputCols=refined_variables,\n",
    "    outputCol='features')"
   ]
  },
  {
   "cell_type": "code",
   "execution_count": 48,
   "metadata": {},
   "outputs": [],
   "source": [
    "trainingData1 = assembler.setHandleInvalid(\"skip\").transform(trainingData1)\n",
    "testData1 = assembler.setHandleInvalid(\"skip\").transform(testData1)"
   ]
  },
  {
   "cell_type": "code",
   "execution_count": 49,
   "metadata": {},
   "outputs": [],
   "source": [
    "trainingData1 = trainingData1.select(trainingData1.features,trainingData1.tips)\n",
    "testData1 = testData1.select(testData1.features,testData1.tips)"
   ]
  },
  {
   "attachments": {},
   "cell_type": "markdown",
   "metadata": {},
   "source": [
    "## To device memory"
   ]
  },
  {
   "cell_type": "code",
   "execution_count": 50,
   "metadata": {},
   "outputs": [
    {
     "name": "stdout",
     "output_type": "stream",
     "text": [
      "== Physical Plan ==\n",
      "*(1) Project [features#23280, tips#7015]\n",
      "+- *(1) Project [tips#7015, UDF(struct(base_passenger_fare, base_passenger_fare#7009, driver_pay, driver_pay#7016, trip_miles, trip_miles#7007, trip_time_double_VectorAssembler_77d26040a5dc, cast(trip_time#7008L as double))) AS features#23280]\n",
      "   +- *(1) Filter atleastnnonnulls(4, base_passenger_fare#7009, driver_pay#7016, trip_miles#7007, trip_time#7008L)\n",
      "      +- *(1) Sample 0.0, 0.7, false, 66\n",
      "         +- *(1) Project [trip_miles#7007, trip_time#7008L, base_passenger_fare#7009, tips#7015, driver_pay#7016]\n",
      "            +- *(1) Sort [pickup_datetime#7003 ASC NULLS FIRST, PULocationID#7005L ASC NULLS FIRST, DOLocationID#7006L ASC NULLS FIRST, trip_miles#7007 ASC NULLS FIRST, trip_time#7008L ASC NULLS FIRST, base_passenger_fare#7009 ASC NULLS FIRST, tips#7015 ASC NULLS FIRST, driver_pay#7016 ASC NULLS FIRST, dayofweek#7055 ASC NULLS FIRST, hour#7065 ASC NULLS FIRST, peak_hours#7076 ASC NULLS FIRST, night_time#7088 ASC NULLS FIRST], false, 0\n",
      "               +- *(1) Project [pickup_datetime#7003, PULocationID#7005L, DOLocationID#7006L, trip_miles#7007, trip_time#7008L, base_passenger_fare#7009, tips#7015, driver_pay#7016, dayofweek#7055, hour#7065, CASE WHEN ((((hour#7065 >= 16) AND (hour#7065 < 20)) AND NOT (dayofweek#7055 = 7)) AND NOT (dayofweek#7055 = 0)) THEN 1 ELSE 0 END AS peak_hours#7076, CASE WHEN ((hour#7065 >= 20) OR (hour#7065 < 6)) THEN 1 ELSE 0 END AS night_time#7088]\n",
      "                  +- *(1) Project [pickup_datetime#7003, PULocationID#7005L, DOLocationID#7006L, trip_miles#7007, trip_time#7008L, base_passenger_fare#7009, tips#7015, driver_pay#7016, dayofweek(cast(pickup_datetime#7003 as date)) AS dayofweek#7055, hour(pickup_datetime#7003, Some(America/Lima)) AS hour#7065]\n",
      "                     +- *(1) Filter ((isnotnull(tips#7015) AND (tips#7015 >= 0.0)) AND (tips#7015 <= 10.0))\n",
      "                        +- *(1) ColumnarToRow\n",
      "                           +- FileScan parquet [pickup_datetime#7003,PULocationID#7005L,DOLocationID#7006L,trip_miles#7007,trip_time#7008L,base_passenger_fare#7009,tips#7015,driver_pay#7016] Batched: true, DataFilters: [isnotnull(tips#7015), (tips#7015 >= 0.0), (tips#7015 <= 10.0)], Format: Parquet, Location: InMemoryFileIndex(12 paths)[hdfs://20.121.35.246:9000/nyc_trips/fhvhv_tripdata_2020-01.parquet, h..., PartitionFilters: [], PushedFilters: [IsNotNull(tips), GreaterThanOrEqual(tips,0.0), LessThanOrEqual(tips,10.0)], ReadSchema: struct<pickup_datetime:timestamp_ntz,PULocationID:bigint,DOLocationID:bigint,trip_miles:double,tr...\n",
      "\n",
      "\n"
     ]
    },
    {
     "name": "stderr",
     "output_type": "stream",
     "text": [
      "                                                                                \r"
     ]
    },
    {
     "data": {
      "text/plain": [
       "99621445"
      ]
     },
     "execution_count": 50,
     "metadata": {},
     "output_type": "execute_result"
    }
   ],
   "source": [
    "from pyspark import StorageLevel\n",
    "trainingData1.explain()\n",
    "trainingData1.persist(StorageLevel.MEMORY_ONLY)\n",
    "trainingData1.count()"
   ]
  },
  {
   "attachments": {},
   "cell_type": "markdown",
   "metadata": {},
   "source": [
    "## Decision Tree Regression 2, fitting"
   ]
  },
  {
   "cell_type": "code",
   "execution_count": 51,
   "metadata": {},
   "outputs": [
    {
     "name": "stderr",
     "output_type": "stream",
     "text": [
      "23/07/11 06:00:00 WARN MemoryStore: Not enough space to cache rdd_400_19 in memory! (computed 227.2 MiB so far)\n",
      "23/07/11 06:00:00 WARN BlockManager: Persisting block rdd_400_19 to disk instead.\n",
      "23/07/11 06:00:03 WARN MemoryStore: Not enough space to cache rdd_400_1 in memory! (computed 227.2 MiB so far)\n",
      "23/07/11 06:00:03 WARN BlockManager: Persisting block rdd_400_1 to disk instead.\n",
      "23/07/11 06:00:03 WARN MemoryStore: Not enough space to cache rdd_400_8 in memory! (computed 227.2 MiB so far)\n",
      "23/07/11 06:00:03 WARN BlockManager: Persisting block rdd_400_8 to disk instead.\n",
      "23/07/11 06:00:03 WARN MemoryStore: Not enough space to cache rdd_400_11 in memory! (computed 227.2 MiB so far)\n",
      "23/07/11 06:00:03 WARN BlockManager: Persisting block rdd_400_11 to disk instead.\n",
      "23/07/11 06:00:03 WARN MemoryStore: Not enough space to cache rdd_400_5 in memory! (computed 227.2 MiB so far)\n",
      "23/07/11 06:00:03 WARN BlockManager: Persisting block rdd_400_5 to disk instead.\n",
      "23/07/11 06:00:06 WARN MemoryStore: Not enough space to cache rdd_400_9 in memory! (computed 347.2 MiB so far)\n",
      "23/07/11 06:00:06 WARN BlockManager: Persisting block rdd_400_9 to disk instead.\n",
      "23/07/11 06:00:07 WARN MemoryStore: Not enough space to cache rdd_400_13 in memory! (computed 347.2 MiB so far)\n",
      "23/07/11 06:00:07 WARN BlockManager: Persisting block rdd_400_13 to disk instead.\n",
      "23/07/11 06:00:07 WARN MemoryStore: Not enough space to cache rdd_400_15 in memory! (computed 347.2 MiB so far)\n",
      "23/07/11 06:00:07 WARN BlockManager: Persisting block rdd_400_15 to disk instead.\n",
      "23/07/11 06:00:08 WARN MemoryStore: Not enough space to cache rdd_400_17 in memory! (computed 347.2 MiB so far)\n",
      "23/07/11 06:00:08 WARN BlockManager: Persisting block rdd_400_17 to disk instead.\n",
      "23/07/11 06:00:08 WARN MemoryStore: Not enough space to cache rdd_400_10 in memory! (computed 347.2 MiB so far)\n",
      "23/07/11 06:00:08 WARN BlockManager: Persisting block rdd_400_10 to disk instead.\n",
      "23/07/11 06:01:20 WARN MemoryStore: Not enough space to cache rdd_400_15 in memory! (computed 356.8 MiB so far)\n",
      "23/07/11 06:01:36 WARN MemoryStore: Not enough space to cache rdd_400_13 in memory! (computed 840.0 MiB so far)\n",
      "23/07/11 06:01:36 WARN MemoryStore: Not enough space to cache rdd_400_11 in memory! (computed 840.0 MiB so far)\n",
      "23/07/11 06:01:36 WARN MemoryStore: Not enough space to cache rdd_400_17 in memory! (computed 356.8 MiB so far)\n",
      "23/07/11 06:01:39 WARN MemoryStore: Not enough space to cache rdd_400_19 in memory! (computed 840.0 MiB so far)\n",
      "23/07/11 06:02:20 WARN MemoryStore: Not enough space to cache rdd_400_1 in memory! (computed 1260.0 MiB so far)\n",
      "23/07/11 06:02:22 WARN MemoryStore: Not enough space to cache rdd_400_5 in memory! (computed 1260.0 MiB so far)\n",
      "23/07/11 06:02:50 WARN MemoryStore: Not enough space to cache rdd_400_17 in memory! (computed 236.2 MiB so far)\n",
      "23/07/11 06:02:50 WARN MemoryStore: Not enough space to cache rdd_400_15 in memory! (computed 236.2 MiB so far)\n",
      "23/07/11 06:02:52 WARN MemoryStore: Not enough space to cache rdd_400_5 in memory! (computed 236.2 MiB so far)\n",
      "23/07/11 06:02:56 WARN MemoryStore: Not enough space to cache rdd_400_10 in memory! (computed 356.8 MiB so far)\n",
      "23/07/11 06:02:56 WARN MemoryStore: Not enough space to cache rdd_400_1 in memory! (computed 356.8 MiB so far)\n",
      "23/07/11 06:02:57 WARN MemoryStore: Not enough space to cache rdd_400_9 in memory! (computed 356.8 MiB so far)\n",
      "23/07/11 06:03:02 WARN MemoryStore: Not enough space to cache rdd_400_24 in memory! (computed 236.2 MiB so far)\n",
      "23/07/11 06:03:14 WARN MemoryStore: Not enough space to cache rdd_400_19 in memory! (computed 840.0 MiB so far)\n",
      "23/07/11 06:03:15 WARN MemoryStore: Not enough space to cache rdd_400_11 in memory! (computed 840.0 MiB so far)\n",
      "23/07/11 06:03:15 WARN MemoryStore: Not enough space to cache rdd_400_13 in memory! (computed 840.0 MiB so far)\n",
      "23/07/11 06:03:40 WARN MemoryStore: Not enough space to cache rdd_400_19 in memory! (computed 236.2 MiB so far)\n",
      "23/07/11 06:03:40 WARN MemoryStore: Not enough space to cache rdd_400_1 in memory! (computed 236.2 MiB so far)\n",
      "23/07/11 06:03:40 WARN MemoryStore: Not enough space to cache rdd_400_5 in memory! (computed 236.2 MiB so far)\n",
      "23/07/11 06:03:46 WARN MemoryStore: Not enough space to cache rdd_400_13 in memory! (computed 356.8 MiB so far)\n",
      "23/07/11 06:03:46 WARN MemoryStore: Not enough space to cache rdd_400_11 in memory! (computed 356.8 MiB so far)\n",
      "23/07/11 06:03:47 WARN MemoryStore: Not enough space to cache rdd_400_15 in memory! (computed 356.8 MiB so far)\n",
      "23/07/11 06:04:24 WARN MemoryStore: Not enough space to cache rdd_400_19 in memory! (computed 42.9 MiB so far)\n",
      "23/07/11 06:04:24 WARN MemoryStore: Not enough space to cache rdd_400_11 in memory! (computed 42.9 MiB so far)\n",
      "23/07/11 06:04:24 WARN MemoryStore: Not enough space to cache rdd_400_1 in memory! (computed 42.9 MiB so far)\n",
      "23/07/11 06:04:24 WARN MemoryStore: Not enough space to cache rdd_400_15 in memory! (computed 42.9 MiB so far)\n",
      "23/07/11 06:04:24 WARN MemoryStore: Not enough space to cache rdd_400_13 in memory! (computed 42.9 MiB so far)\n",
      "23/07/11 06:04:30 WARN MemoryStore: Not enough space to cache rdd_400_5 in memory! (computed 236.2 MiB so far)\n",
      "23/07/11 06:05:04 WARN MemoryStore: Not enough space to cache rdd_400_15 in memory! (computed 42.9 MiB so far)\n",
      "23/07/11 06:05:04 WARN MemoryStore: Not enough space to cache rdd_400_13 in memory! (computed 42.9 MiB so far)\n",
      "23/07/11 06:05:04 WARN MemoryStore: Not enough space to cache rdd_400_11 in memory! (computed 42.9 MiB so far)\n",
      "23/07/11 06:05:04 WARN MemoryStore: Not enough space to cache rdd_400_5 in memory! (computed 42.9 MiB so far)\n",
      "23/07/11 06:05:04 WARN MemoryStore: Not enough space to cache rdd_400_19 in memory! (computed 42.9 MiB so far)\n",
      "23/07/11 06:05:13 WARN MemoryStore: Not enough space to cache rdd_400_1 in memory! (computed 236.2 MiB so far)\n",
      "                                                                                \r"
     ]
    }
   ],
   "source": [
    "dt = DecisionTreeRegressor(featuresCol='features', labelCol='tips')\n",
    "\n",
    "# Model fitting\n",
    "model1 = dt.fit(trainingData1)"
   ]
  },
  {
   "cell_type": "code",
   "execution_count": 53,
   "metadata": {},
   "outputs": [
    {
     "name": "stderr",
     "output_type": "stream",
     "text": [
      "[Stage 157:=====================================================> (29 + 1) / 30]\r"
     ]
    },
    {
     "name": "stdout",
     "output_type": "stream",
     "text": [
      "RMSE:  1.3542757115143698\n",
      "MAE:  0.7442312316671168\n",
      "R-squared:  0.031202710373630205\n"
     ]
    },
    {
     "name": "stderr",
     "output_type": "stream",
     "text": [
      "                                                                                \r"
     ]
    }
   ],
   "source": [
    "predictions2 = model1.transform(testData1)\n",
    "predictions2.persist(StorageLevel.MEMORY_ONLY)\n",
    "\n",
    "rmse = RegressionEvaluator(labelCol=\"tips\", predictionCol=\"prediction\", metricName=\"rmse\")\n",
    "rmse = rmse.evaluate(predictions2)\n",
    "mae = RegressionEvaluator(labelCol=\"tips\", predictionCol=\"prediction\", metricName=\"mae\")\n",
    "mae = mae.evaluate(predictions2)\n",
    "r2 = RegressionEvaluator(labelCol=\"tips\", predictionCol=\"prediction\", metricName=\"r2\")\n",
    "r2 = r2.evaluate(predictions2)\n",
    "\n",
    "print(\"RMSE: \", rmse)\n",
    "print(\"MAE: \", mae)\n",
    "print(\"R-squared: \", r2)"
   ]
  },
  {
   "cell_type": "code",
   "execution_count": 54,
   "metadata": {},
   "outputs": [
    {
     "data": {
      "text/plain": [
       "DataFrame[features: vector, tips: double, prediction: double]"
      ]
     },
     "execution_count": 54,
     "metadata": {},
     "output_type": "execute_result"
    }
   ],
   "source": [
    "predictions2.unpersist(True)"
   ]
  }
 ],
 "metadata": {
  "kernelspec": {
   "display_name": "Python 3",
   "language": "python",
   "name": "python3"
  },
  "language_info": {
   "codemirror_mode": {
    "name": "ipython",
    "version": 3
   },
   "file_extension": ".py",
   "mimetype": "text/x-python",
   "name": "python",
   "nbconvert_exporter": "python",
   "pygments_lexer": "ipython3",
   "version": "3.10.6"
  },
  "orig_nbformat": 4
 },
 "nbformat": 4,
 "nbformat_minor": 2
}
